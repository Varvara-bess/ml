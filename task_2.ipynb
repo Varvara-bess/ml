{
 "cells": [
  {
   "cell_type": "markdown",
   "id": "48d45220",
   "metadata": {},
   "source": [
    "Импортируем необходимые библиотеки"
   ]
  },
  {
   "cell_type": "code",
   "execution_count": 1,
   "id": "693fd028",
   "metadata": {},
   "outputs": [],
   "source": [
    "import numpy as np              \n",
    "import matplotlib.pyplot as plt \n",
    "%matplotlib inline \n",
    "import pandas as pd            \n",
    "import seaborn as sns           \n",
    "import sklearn "
   ]
  },
  {
   "cell_type": "markdown",
   "id": "54a12417",
   "metadata": {},
   "source": [
    "Ignore warnings"
   ]
  },
  {
   "cell_type": "code",
   "execution_count": 2,
   "id": "0e893b9d",
   "metadata": {},
   "outputs": [],
   "source": [
    "import warnings\n",
    "warnings.filterwarnings('ignore')"
   ]
  },
  {
   "cell_type": "markdown",
   "id": "87c9d31b",
   "metadata": {},
   "source": [
    "Загружаем датасет"
   ]
  },
  {
   "cell_type": "code",
   "execution_count": 3,
   "id": "7dd3fc30",
   "metadata": {},
   "outputs": [],
   "source": [
    "data_raw = pd.read_csv('water_potability.csv')"
   ]
  },
  {
   "cell_type": "markdown",
   "id": "a2febea3",
   "metadata": {},
   "source": [
    "Размер таблицы"
   ]
  },
  {
   "cell_type": "code",
   "execution_count": 4,
   "id": "9108541e",
   "metadata": {},
   "outputs": [
    {
     "data": {
      "text/plain": [
       "(3276, 10)"
      ]
     },
     "execution_count": 4,
     "metadata": {},
     "output_type": "execute_result"
    }
   ],
   "source": [
    "data_raw.shape"
   ]
  },
  {
   "cell_type": "markdown",
   "id": "860d470b",
   "metadata": {},
   "source": [
    "Выведем первые 7 элементов таблицы"
   ]
  },
  {
   "cell_type": "code",
   "execution_count": 5,
   "id": "63e2346f",
   "metadata": {},
   "outputs": [
    {
     "data": {
      "text/html": [
       "<div>\n",
       "<style scoped>\n",
       "    .dataframe tbody tr th:only-of-type {\n",
       "        vertical-align: middle;\n",
       "    }\n",
       "\n",
       "    .dataframe tbody tr th {\n",
       "        vertical-align: top;\n",
       "    }\n",
       "\n",
       "    .dataframe thead th {\n",
       "        text-align: right;\n",
       "    }\n",
       "</style>\n",
       "<table border=\"1\" class=\"dataframe\">\n",
       "  <thead>\n",
       "    <tr style=\"text-align: right;\">\n",
       "      <th></th>\n",
       "      <th>ph</th>\n",
       "      <th>Hardness</th>\n",
       "      <th>Solids</th>\n",
       "      <th>Chloramines</th>\n",
       "      <th>Sulfate</th>\n",
       "      <th>Conductivity</th>\n",
       "      <th>Organic_carbon</th>\n",
       "      <th>Trihalomethanes</th>\n",
       "      <th>Turbidity</th>\n",
       "      <th>Potability</th>\n",
       "    </tr>\n",
       "  </thead>\n",
       "  <tbody>\n",
       "    <tr>\n",
       "      <th>0</th>\n",
       "      <td>NaN</td>\n",
       "      <td>204.890455</td>\n",
       "      <td>20791.318981</td>\n",
       "      <td>7.300212</td>\n",
       "      <td>368.516441</td>\n",
       "      <td>564.308654</td>\n",
       "      <td>10.379783</td>\n",
       "      <td>86.990970</td>\n",
       "      <td>2.963135</td>\n",
       "      <td>0</td>\n",
       "    </tr>\n",
       "    <tr>\n",
       "      <th>1</th>\n",
       "      <td>3.716080</td>\n",
       "      <td>129.422921</td>\n",
       "      <td>18630.057858</td>\n",
       "      <td>6.635246</td>\n",
       "      <td>NaN</td>\n",
       "      <td>592.885359</td>\n",
       "      <td>15.180013</td>\n",
       "      <td>56.329076</td>\n",
       "      <td>4.500656</td>\n",
       "      <td>0</td>\n",
       "    </tr>\n",
       "    <tr>\n",
       "      <th>2</th>\n",
       "      <td>8.099124</td>\n",
       "      <td>224.236259</td>\n",
       "      <td>19909.541732</td>\n",
       "      <td>9.275884</td>\n",
       "      <td>NaN</td>\n",
       "      <td>418.606213</td>\n",
       "      <td>16.868637</td>\n",
       "      <td>66.420093</td>\n",
       "      <td>3.055934</td>\n",
       "      <td>0</td>\n",
       "    </tr>\n",
       "    <tr>\n",
       "      <th>3</th>\n",
       "      <td>8.316766</td>\n",
       "      <td>214.373394</td>\n",
       "      <td>22018.417441</td>\n",
       "      <td>8.059332</td>\n",
       "      <td>356.886136</td>\n",
       "      <td>363.266516</td>\n",
       "      <td>18.436524</td>\n",
       "      <td>100.341674</td>\n",
       "      <td>4.628771</td>\n",
       "      <td>0</td>\n",
       "    </tr>\n",
       "    <tr>\n",
       "      <th>4</th>\n",
       "      <td>9.092223</td>\n",
       "      <td>181.101509</td>\n",
       "      <td>17978.986339</td>\n",
       "      <td>6.546600</td>\n",
       "      <td>310.135738</td>\n",
       "      <td>398.410813</td>\n",
       "      <td>11.558279</td>\n",
       "      <td>31.997993</td>\n",
       "      <td>4.075075</td>\n",
       "      <td>0</td>\n",
       "    </tr>\n",
       "    <tr>\n",
       "      <th>5</th>\n",
       "      <td>5.584087</td>\n",
       "      <td>188.313324</td>\n",
       "      <td>28748.687739</td>\n",
       "      <td>7.544869</td>\n",
       "      <td>326.678363</td>\n",
       "      <td>280.467916</td>\n",
       "      <td>8.399735</td>\n",
       "      <td>54.917862</td>\n",
       "      <td>2.559708</td>\n",
       "      <td>0</td>\n",
       "    </tr>\n",
       "    <tr>\n",
       "      <th>6</th>\n",
       "      <td>10.223862</td>\n",
       "      <td>248.071735</td>\n",
       "      <td>28749.716544</td>\n",
       "      <td>7.513408</td>\n",
       "      <td>393.663396</td>\n",
       "      <td>283.651634</td>\n",
       "      <td>13.789695</td>\n",
       "      <td>84.603556</td>\n",
       "      <td>2.672989</td>\n",
       "      <td>0</td>\n",
       "    </tr>\n",
       "  </tbody>\n",
       "</table>\n",
       "</div>"
      ],
      "text/plain": [
       "          ph    Hardness        Solids  Chloramines     Sulfate  Conductivity  \\\n",
       "0        NaN  204.890455  20791.318981     7.300212  368.516441    564.308654   \n",
       "1   3.716080  129.422921  18630.057858     6.635246         NaN    592.885359   \n",
       "2   8.099124  224.236259  19909.541732     9.275884         NaN    418.606213   \n",
       "3   8.316766  214.373394  22018.417441     8.059332  356.886136    363.266516   \n",
       "4   9.092223  181.101509  17978.986339     6.546600  310.135738    398.410813   \n",
       "5   5.584087  188.313324  28748.687739     7.544869  326.678363    280.467916   \n",
       "6  10.223862  248.071735  28749.716544     7.513408  393.663396    283.651634   \n",
       "\n",
       "   Organic_carbon  Trihalomethanes  Turbidity  Potability  \n",
       "0       10.379783        86.990970   2.963135           0  \n",
       "1       15.180013        56.329076   4.500656           0  \n",
       "2       16.868637        66.420093   3.055934           0  \n",
       "3       18.436524       100.341674   4.628771           0  \n",
       "4       11.558279        31.997993   4.075075           0  \n",
       "5        8.399735        54.917862   2.559708           0  \n",
       "6       13.789695        84.603556   2.672989           0  "
      ]
     },
     "execution_count": 5,
     "metadata": {},
     "output_type": "execute_result"
    }
   ],
   "source": [
    "data_raw.head(7)"
   ]
  },
  {
   "cell_type": "code",
   "execution_count": 6,
   "id": "e5f4669a",
   "metadata": {},
   "outputs": [],
   "source": [
    "data_raw['Potability'] = data_raw['Potability'].astype('category')"
   ]
  },
  {
   "cell_type": "markdown",
   "id": "baa1483d",
   "metadata": {},
   "source": [
    "# Визуализация и описательная статистика"
   ]
  },
  {
   "cell_type": "code",
   "execution_count": 7,
   "id": "c7ef045f",
   "metadata": {},
   "outputs": [
    {
     "data": {
      "text/html": [
       "<div>\n",
       "<style scoped>\n",
       "    .dataframe tbody tr th:only-of-type {\n",
       "        vertical-align: middle;\n",
       "    }\n",
       "\n",
       "    .dataframe tbody tr th {\n",
       "        vertical-align: top;\n",
       "    }\n",
       "\n",
       "    .dataframe thead th {\n",
       "        text-align: right;\n",
       "    }\n",
       "</style>\n",
       "<table border=\"1\" class=\"dataframe\">\n",
       "  <thead>\n",
       "    <tr style=\"text-align: right;\">\n",
       "      <th></th>\n",
       "      <th>ph</th>\n",
       "      <th>Hardness</th>\n",
       "      <th>Solids</th>\n",
       "      <th>Chloramines</th>\n",
       "      <th>Sulfate</th>\n",
       "      <th>Conductivity</th>\n",
       "      <th>Organic_carbon</th>\n",
       "      <th>Trihalomethanes</th>\n",
       "      <th>Turbidity</th>\n",
       "    </tr>\n",
       "  </thead>\n",
       "  <tbody>\n",
       "    <tr>\n",
       "      <th>count</th>\n",
       "      <td>2785.000000</td>\n",
       "      <td>3276.000000</td>\n",
       "      <td>3276.000000</td>\n",
       "      <td>3276.000000</td>\n",
       "      <td>2495.000000</td>\n",
       "      <td>3276.000000</td>\n",
       "      <td>3276.000000</td>\n",
       "      <td>3114.000000</td>\n",
       "      <td>3276.000000</td>\n",
       "    </tr>\n",
       "    <tr>\n",
       "      <th>mean</th>\n",
       "      <td>7.080795</td>\n",
       "      <td>196.369496</td>\n",
       "      <td>22014.092526</td>\n",
       "      <td>7.122277</td>\n",
       "      <td>333.775777</td>\n",
       "      <td>426.205111</td>\n",
       "      <td>14.284970</td>\n",
       "      <td>66.396293</td>\n",
       "      <td>3.966786</td>\n",
       "    </tr>\n",
       "    <tr>\n",
       "      <th>std</th>\n",
       "      <td>1.594320</td>\n",
       "      <td>32.879761</td>\n",
       "      <td>8768.570828</td>\n",
       "      <td>1.583085</td>\n",
       "      <td>41.416840</td>\n",
       "      <td>80.824064</td>\n",
       "      <td>3.308162</td>\n",
       "      <td>16.175008</td>\n",
       "      <td>0.780382</td>\n",
       "    </tr>\n",
       "    <tr>\n",
       "      <th>min</th>\n",
       "      <td>0.000000</td>\n",
       "      <td>47.432000</td>\n",
       "      <td>320.942611</td>\n",
       "      <td>0.352000</td>\n",
       "      <td>129.000000</td>\n",
       "      <td>181.483754</td>\n",
       "      <td>2.200000</td>\n",
       "      <td>0.738000</td>\n",
       "      <td>1.450000</td>\n",
       "    </tr>\n",
       "    <tr>\n",
       "      <th>25%</th>\n",
       "      <td>6.093092</td>\n",
       "      <td>176.850538</td>\n",
       "      <td>15666.690297</td>\n",
       "      <td>6.127421</td>\n",
       "      <td>307.699498</td>\n",
       "      <td>365.734414</td>\n",
       "      <td>12.065801</td>\n",
       "      <td>55.844536</td>\n",
       "      <td>3.439711</td>\n",
       "    </tr>\n",
       "    <tr>\n",
       "      <th>50%</th>\n",
       "      <td>7.036752</td>\n",
       "      <td>196.967627</td>\n",
       "      <td>20927.833607</td>\n",
       "      <td>7.130299</td>\n",
       "      <td>333.073546</td>\n",
       "      <td>421.884968</td>\n",
       "      <td>14.218338</td>\n",
       "      <td>66.622485</td>\n",
       "      <td>3.955028</td>\n",
       "    </tr>\n",
       "    <tr>\n",
       "      <th>75%</th>\n",
       "      <td>8.062066</td>\n",
       "      <td>216.667456</td>\n",
       "      <td>27332.762127</td>\n",
       "      <td>8.114887</td>\n",
       "      <td>359.950170</td>\n",
       "      <td>481.792304</td>\n",
       "      <td>16.557652</td>\n",
       "      <td>77.337473</td>\n",
       "      <td>4.500320</td>\n",
       "    </tr>\n",
       "    <tr>\n",
       "      <th>max</th>\n",
       "      <td>14.000000</td>\n",
       "      <td>323.124000</td>\n",
       "      <td>61227.196008</td>\n",
       "      <td>13.127000</td>\n",
       "      <td>481.030642</td>\n",
       "      <td>753.342620</td>\n",
       "      <td>28.300000</td>\n",
       "      <td>124.000000</td>\n",
       "      <td>6.739000</td>\n",
       "    </tr>\n",
       "  </tbody>\n",
       "</table>\n",
       "</div>"
      ],
      "text/plain": [
       "                ph     Hardness        Solids  Chloramines      Sulfate  \\\n",
       "count  2785.000000  3276.000000   3276.000000  3276.000000  2495.000000   \n",
       "mean      7.080795   196.369496  22014.092526     7.122277   333.775777   \n",
       "std       1.594320    32.879761   8768.570828     1.583085    41.416840   \n",
       "min       0.000000    47.432000    320.942611     0.352000   129.000000   \n",
       "25%       6.093092   176.850538  15666.690297     6.127421   307.699498   \n",
       "50%       7.036752   196.967627  20927.833607     7.130299   333.073546   \n",
       "75%       8.062066   216.667456  27332.762127     8.114887   359.950170   \n",
       "max      14.000000   323.124000  61227.196008    13.127000   481.030642   \n",
       "\n",
       "       Conductivity  Organic_carbon  Trihalomethanes    Turbidity  \n",
       "count   3276.000000     3276.000000      3114.000000  3276.000000  \n",
       "mean     426.205111       14.284970        66.396293     3.966786  \n",
       "std       80.824064        3.308162        16.175008     0.780382  \n",
       "min      181.483754        2.200000         0.738000     1.450000  \n",
       "25%      365.734414       12.065801        55.844536     3.439711  \n",
       "50%      421.884968       14.218338        66.622485     3.955028  \n",
       "75%      481.792304       16.557652        77.337473     4.500320  \n",
       "max      753.342620       28.300000       124.000000     6.739000  "
      ]
     },
     "execution_count": 7,
     "metadata": {},
     "output_type": "execute_result"
    }
   ],
   "source": [
    "data_raw.describe()"
   ]
  },
  {
   "cell_type": "markdown",
   "id": "aab5f50d",
   "metadata": {},
   "source": [
    "Из таблицы видно, что количество элементов для разных столбцов различно, следовательно есть пропущенные элементы. Построим такие же таблицы для значений Potability = 1 и Potability = 0"
   ]
  },
  {
   "cell_type": "code",
   "execution_count": 8,
   "id": "b6be096a",
   "metadata": {},
   "outputs": [
    {
     "data": {
      "text/html": [
       "<div>\n",
       "<style scoped>\n",
       "    .dataframe tbody tr th:only-of-type {\n",
       "        vertical-align: middle;\n",
       "    }\n",
       "\n",
       "    .dataframe tbody tr th {\n",
       "        vertical-align: top;\n",
       "    }\n",
       "\n",
       "    .dataframe thead th {\n",
       "        text-align: right;\n",
       "    }\n",
       "</style>\n",
       "<table border=\"1\" class=\"dataframe\">\n",
       "  <thead>\n",
       "    <tr style=\"text-align: right;\">\n",
       "      <th></th>\n",
       "      <th>ph</th>\n",
       "      <th>Hardness</th>\n",
       "      <th>Solids</th>\n",
       "      <th>Chloramines</th>\n",
       "      <th>Sulfate</th>\n",
       "      <th>Conductivity</th>\n",
       "      <th>Organic_carbon</th>\n",
       "      <th>Trihalomethanes</th>\n",
       "      <th>Turbidity</th>\n",
       "    </tr>\n",
       "  </thead>\n",
       "  <tbody>\n",
       "    <tr>\n",
       "      <th>count</th>\n",
       "      <td>1101.000000</td>\n",
       "      <td>1278.000000</td>\n",
       "      <td>1278.000000</td>\n",
       "      <td>1278.000000</td>\n",
       "      <td>985.000000</td>\n",
       "      <td>1278.000000</td>\n",
       "      <td>1278.000000</td>\n",
       "      <td>1223.000000</td>\n",
       "      <td>1278.000000</td>\n",
       "    </tr>\n",
       "    <tr>\n",
       "      <th>mean</th>\n",
       "      <td>7.073783</td>\n",
       "      <td>195.800744</td>\n",
       "      <td>22383.991018</td>\n",
       "      <td>7.169338</td>\n",
       "      <td>332.566990</td>\n",
       "      <td>425.383800</td>\n",
       "      <td>14.160893</td>\n",
       "      <td>66.539684</td>\n",
       "      <td>3.968328</td>\n",
       "    </tr>\n",
       "    <tr>\n",
       "      <th>std</th>\n",
       "      <td>1.448048</td>\n",
       "      <td>35.547041</td>\n",
       "      <td>9101.010208</td>\n",
       "      <td>1.702988</td>\n",
       "      <td>47.692818</td>\n",
       "      <td>82.048446</td>\n",
       "      <td>3.263907</td>\n",
       "      <td>16.327419</td>\n",
       "      <td>0.780842</td>\n",
       "    </tr>\n",
       "    <tr>\n",
       "      <th>min</th>\n",
       "      <td>0.227499</td>\n",
       "      <td>47.432000</td>\n",
       "      <td>728.750830</td>\n",
       "      <td>0.352000</td>\n",
       "      <td>129.000000</td>\n",
       "      <td>201.619737</td>\n",
       "      <td>2.200000</td>\n",
       "      <td>8.175876</td>\n",
       "      <td>1.492207</td>\n",
       "    </tr>\n",
       "    <tr>\n",
       "      <th>25%</th>\n",
       "      <td>6.179312</td>\n",
       "      <td>174.330531</td>\n",
       "      <td>15668.985035</td>\n",
       "      <td>6.094134</td>\n",
       "      <td>300.763772</td>\n",
       "      <td>360.939023</td>\n",
       "      <td>12.033897</td>\n",
       "      <td>56.014249</td>\n",
       "      <td>3.430909</td>\n",
       "    </tr>\n",
       "    <tr>\n",
       "      <th>50%</th>\n",
       "      <td>7.036752</td>\n",
       "      <td>196.632907</td>\n",
       "      <td>21199.386614</td>\n",
       "      <td>7.215163</td>\n",
       "      <td>331.838167</td>\n",
       "      <td>420.712729</td>\n",
       "      <td>14.162809</td>\n",
       "      <td>66.678214</td>\n",
       "      <td>3.958576</td>\n",
       "    </tr>\n",
       "    <tr>\n",
       "      <th>75%</th>\n",
       "      <td>7.933068</td>\n",
       "      <td>218.003420</td>\n",
       "      <td>27973.236446</td>\n",
       "      <td>8.199261</td>\n",
       "      <td>365.941346</td>\n",
       "      <td>484.155911</td>\n",
       "      <td>16.356245</td>\n",
       "      <td>77.380975</td>\n",
       "      <td>4.509569</td>\n",
       "    </tr>\n",
       "    <tr>\n",
       "      <th>max</th>\n",
       "      <td>13.175402</td>\n",
       "      <td>323.124000</td>\n",
       "      <td>56488.672413</td>\n",
       "      <td>13.127000</td>\n",
       "      <td>481.030642</td>\n",
       "      <td>695.369528</td>\n",
       "      <td>23.604298</td>\n",
       "      <td>124.000000</td>\n",
       "      <td>6.494249</td>\n",
       "    </tr>\n",
       "  </tbody>\n",
       "</table>\n",
       "</div>"
      ],
      "text/plain": [
       "                ph     Hardness        Solids  Chloramines     Sulfate  \\\n",
       "count  1101.000000  1278.000000   1278.000000  1278.000000  985.000000   \n",
       "mean      7.073783   195.800744  22383.991018     7.169338  332.566990   \n",
       "std       1.448048    35.547041   9101.010208     1.702988   47.692818   \n",
       "min       0.227499    47.432000    728.750830     0.352000  129.000000   \n",
       "25%       6.179312   174.330531  15668.985035     6.094134  300.763772   \n",
       "50%       7.036752   196.632907  21199.386614     7.215163  331.838167   \n",
       "75%       7.933068   218.003420  27973.236446     8.199261  365.941346   \n",
       "max      13.175402   323.124000  56488.672413    13.127000  481.030642   \n",
       "\n",
       "       Conductivity  Organic_carbon  Trihalomethanes    Turbidity  \n",
       "count   1278.000000     1278.000000      1223.000000  1278.000000  \n",
       "mean     425.383800       14.160893        66.539684     3.968328  \n",
       "std       82.048446        3.263907        16.327419     0.780842  \n",
       "min      201.619737        2.200000         8.175876     1.492207  \n",
       "25%      360.939023       12.033897        56.014249     3.430909  \n",
       "50%      420.712729       14.162809        66.678214     3.958576  \n",
       "75%      484.155911       16.356245        77.380975     4.509569  \n",
       "max      695.369528       23.604298       124.000000     6.494249  "
      ]
     },
     "execution_count": 8,
     "metadata": {},
     "output_type": "execute_result"
    }
   ],
   "source": [
    "data_raw[data_raw['Potability'] == 1].describe() # Potability = 1"
   ]
  },
  {
   "cell_type": "code",
   "execution_count": 9,
   "id": "f198d480",
   "metadata": {},
   "outputs": [
    {
     "data": {
      "text/html": [
       "<div>\n",
       "<style scoped>\n",
       "    .dataframe tbody tr th:only-of-type {\n",
       "        vertical-align: middle;\n",
       "    }\n",
       "\n",
       "    .dataframe tbody tr th {\n",
       "        vertical-align: top;\n",
       "    }\n",
       "\n",
       "    .dataframe thead th {\n",
       "        text-align: right;\n",
       "    }\n",
       "</style>\n",
       "<table border=\"1\" class=\"dataframe\">\n",
       "  <thead>\n",
       "    <tr style=\"text-align: right;\">\n",
       "      <th></th>\n",
       "      <th>ph</th>\n",
       "      <th>Hardness</th>\n",
       "      <th>Solids</th>\n",
       "      <th>Chloramines</th>\n",
       "      <th>Sulfate</th>\n",
       "      <th>Conductivity</th>\n",
       "      <th>Organic_carbon</th>\n",
       "      <th>Trihalomethanes</th>\n",
       "      <th>Turbidity</th>\n",
       "    </tr>\n",
       "  </thead>\n",
       "  <tbody>\n",
       "    <tr>\n",
       "      <th>count</th>\n",
       "      <td>1684.000000</td>\n",
       "      <td>1998.000000</td>\n",
       "      <td>1998.000000</td>\n",
       "      <td>1998.000000</td>\n",
       "      <td>1510.000000</td>\n",
       "      <td>1998.000000</td>\n",
       "      <td>1998.000000</td>\n",
       "      <td>1891.000000</td>\n",
       "      <td>1998.000000</td>\n",
       "    </tr>\n",
       "    <tr>\n",
       "      <th>mean</th>\n",
       "      <td>7.085378</td>\n",
       "      <td>196.733292</td>\n",
       "      <td>21777.490788</td>\n",
       "      <td>7.092175</td>\n",
       "      <td>334.564290</td>\n",
       "      <td>426.730454</td>\n",
       "      <td>14.364335</td>\n",
       "      <td>66.303555</td>\n",
       "      <td>3.965800</td>\n",
       "    </tr>\n",
       "    <tr>\n",
       "      <th>std</th>\n",
       "      <td>1.683499</td>\n",
       "      <td>31.057540</td>\n",
       "      <td>8543.068788</td>\n",
       "      <td>1.501045</td>\n",
       "      <td>36.745549</td>\n",
       "      <td>80.047317</td>\n",
       "      <td>3.334554</td>\n",
       "      <td>16.079320</td>\n",
       "      <td>0.780282</td>\n",
       "    </tr>\n",
       "    <tr>\n",
       "      <th>min</th>\n",
       "      <td>0.000000</td>\n",
       "      <td>98.452931</td>\n",
       "      <td>320.942611</td>\n",
       "      <td>1.683993</td>\n",
       "      <td>203.444521</td>\n",
       "      <td>181.483754</td>\n",
       "      <td>4.371899</td>\n",
       "      <td>0.738000</td>\n",
       "      <td>1.450000</td>\n",
       "    </tr>\n",
       "    <tr>\n",
       "      <th>25%</th>\n",
       "      <td>6.037723</td>\n",
       "      <td>177.823265</td>\n",
       "      <td>15663.057382</td>\n",
       "      <td>6.155640</td>\n",
       "      <td>311.264006</td>\n",
       "      <td>368.498530</td>\n",
       "      <td>12.101057</td>\n",
       "      <td>55.706530</td>\n",
       "      <td>3.444062</td>\n",
       "    </tr>\n",
       "    <tr>\n",
       "      <th>50%</th>\n",
       "      <td>7.035456</td>\n",
       "      <td>197.123423</td>\n",
       "      <td>20809.618280</td>\n",
       "      <td>7.090334</td>\n",
       "      <td>333.389426</td>\n",
       "      <td>422.229331</td>\n",
       "      <td>14.293508</td>\n",
       "      <td>66.542198</td>\n",
       "      <td>3.948076</td>\n",
       "    </tr>\n",
       "    <tr>\n",
       "      <th>75%</th>\n",
       "      <td>8.155510</td>\n",
       "      <td>216.120687</td>\n",
       "      <td>27006.249009</td>\n",
       "      <td>8.066462</td>\n",
       "      <td>356.853897</td>\n",
       "      <td>480.677198</td>\n",
       "      <td>16.649485</td>\n",
       "      <td>77.277704</td>\n",
       "      <td>4.496106</td>\n",
       "    </tr>\n",
       "    <tr>\n",
       "      <th>max</th>\n",
       "      <td>14.000000</td>\n",
       "      <td>304.235912</td>\n",
       "      <td>61227.196008</td>\n",
       "      <td>12.653362</td>\n",
       "      <td>460.107069</td>\n",
       "      <td>753.342620</td>\n",
       "      <td>28.300000</td>\n",
       "      <td>120.030077</td>\n",
       "      <td>6.739000</td>\n",
       "    </tr>\n",
       "  </tbody>\n",
       "</table>\n",
       "</div>"
      ],
      "text/plain": [
       "                ph     Hardness        Solids  Chloramines      Sulfate  \\\n",
       "count  1684.000000  1998.000000   1998.000000  1998.000000  1510.000000   \n",
       "mean      7.085378   196.733292  21777.490788     7.092175   334.564290   \n",
       "std       1.683499    31.057540   8543.068788     1.501045    36.745549   \n",
       "min       0.000000    98.452931    320.942611     1.683993   203.444521   \n",
       "25%       6.037723   177.823265  15663.057382     6.155640   311.264006   \n",
       "50%       7.035456   197.123423  20809.618280     7.090334   333.389426   \n",
       "75%       8.155510   216.120687  27006.249009     8.066462   356.853897   \n",
       "max      14.000000   304.235912  61227.196008    12.653362   460.107069   \n",
       "\n",
       "       Conductivity  Organic_carbon  Trihalomethanes    Turbidity  \n",
       "count   1998.000000     1998.000000      1891.000000  1998.000000  \n",
       "mean     426.730454       14.364335        66.303555     3.965800  \n",
       "std       80.047317        3.334554        16.079320     0.780282  \n",
       "min      181.483754        4.371899         0.738000     1.450000  \n",
       "25%      368.498530       12.101057        55.706530     3.444062  \n",
       "50%      422.229331       14.293508        66.542198     3.948076  \n",
       "75%      480.677198       16.649485        77.277704     4.496106  \n",
       "max      753.342620       28.300000       120.030077     6.739000  "
      ]
     },
     "execution_count": 9,
     "metadata": {},
     "output_type": "execute_result"
    }
   ],
   "source": [
    "data_raw[data_raw['Potability'] == 0].describe() # Potability = 0"
   ]
  },
  {
   "cell_type": "markdown",
   "id": "fa15f490",
   "metadata": {},
   "source": [
    "Значения для обеих таблиц очень схожи. Некоторые отличия есть в столбце Solids"
   ]
  },
  {
   "cell_type": "markdown",
   "id": "74345fd9",
   "metadata": {},
   "source": [
    "# Работа с пропущенными значениями"
   ]
  },
  {
   "cell_type": "code",
   "execution_count": 10,
   "id": "f52cbeeb",
   "metadata": {},
   "outputs": [
    {
     "data": {
      "text/plain": [
       "ph                 491\n",
       "Hardness             0\n",
       "Solids               0\n",
       "Chloramines          0\n",
       "Sulfate            781\n",
       "Conductivity         0\n",
       "Organic_carbon       0\n",
       "Trihalomethanes    162\n",
       "Turbidity            0\n",
       "Potability           0\n",
       "dtype: int64"
      ]
     },
     "execution_count": 10,
     "metadata": {},
     "output_type": "execute_result"
    }
   ],
   "source": [
    "data_raw.isnull().sum()"
   ]
  },
  {
   "cell_type": "markdown",
   "id": "7211e366",
   "metadata": {},
   "source": [
    "Как видим, пропущенные значения есть в столбцах ph, sulfate, Trihalomethanes"
   ]
  },
  {
   "cell_type": "markdown",
   "id": "fa962fb3",
   "metadata": {},
   "source": [
    "Так как пропущенных значений достаточно много, нерационально просто выбросить их из рассмотрения. Заменим их средними значениями."
   ]
  },
  {
   "cell_type": "code",
   "execution_count": 11,
   "id": "8cfa0db9",
   "metadata": {},
   "outputs": [],
   "source": [
    "data_raw['ph'] = data_raw['ph'].fillna(data_raw['ph'].mean())\n",
    "data_raw['Sulfate'] = data_raw['Sulfate'].fillna(data_raw['Sulfate'].mean())\n",
    "data_raw['Trihalomethanes'] = data_raw['Trihalomethanes'].fillna(data_raw['Trihalomethanes'].mean())"
   ]
  },
  {
   "cell_type": "code",
   "execution_count": 12,
   "id": "30b5671b",
   "metadata": {},
   "outputs": [
    {
     "data": {
      "text/plain": [
       "ph                 0\n",
       "Hardness           0\n",
       "Solids             0\n",
       "Chloramines        0\n",
       "Sulfate            0\n",
       "Conductivity       0\n",
       "Organic_carbon     0\n",
       "Trihalomethanes    0\n",
       "Turbidity          0\n",
       "Potability         0\n",
       "dtype: int64"
      ]
     },
     "execution_count": 12,
     "metadata": {},
     "output_type": "execute_result"
    }
   ],
   "source": [
    "data_raw.isnull().sum()"
   ]
  },
  {
   "cell_type": "code",
   "execution_count": 13,
   "id": "5b70e67b",
   "metadata": {},
   "outputs": [
    {
     "data": {
      "image/png": "[encoded data removed]",
      "text/plain": [
       "<Figure size 432x288 with 1 Axes>"
      ]
     },
     "metadata": {
      "needs_background": "light"
     },
     "output_type": "display_data"
    }
   ],
   "source": [
    "sns.countplot(x = 'Potability', data = data_raw)\n",
    "pass"
   ]
  },
  {
   "cell_type": "markdown",
   "id": "42f57276",
   "metadata": {},
   "source": [
    "# Нормализация количественных признаков"
   ]
  },
  {
   "cell_type": "code",
   "execution_count": 14,
   "id": "356bd0c3",
   "metadata": {},
   "outputs": [],
   "source": [
    "df = X = data_raw.drop(['Potability'], axis=1)\n",
    "data_stand = (df.astype(float) - df.mean(axis = 0))/data_raw.std(axis = 0)"
   ]
  },
  {
   "cell_type": "code",
   "execution_count": 15,
   "id": "9a9173c5",
   "metadata": {},
   "outputs": [
    {
     "data": {
      "text/html": [
       "<div>\n",
       "<style scoped>\n",
       "    .dataframe tbody tr th:only-of-type {\n",
       "        vertical-align: middle;\n",
       "    }\n",
       "\n",
       "    .dataframe tbody tr th {\n",
       "        vertical-align: top;\n",
       "    }\n",
       "\n",
       "    .dataframe thead th {\n",
       "        text-align: right;\n",
       "    }\n",
       "</style>\n",
       "<table border=\"1\" class=\"dataframe\">\n",
       "  <thead>\n",
       "    <tr style=\"text-align: right;\">\n",
       "      <th></th>\n",
       "      <th>ph</th>\n",
       "      <th>Hardness</th>\n",
       "      <th>Solids</th>\n",
       "      <th>Chloramines</th>\n",
       "      <th>Sulfate</th>\n",
       "      <th>Conductivity</th>\n",
       "      <th>Organic_carbon</th>\n",
       "      <th>Trihalomethanes</th>\n",
       "      <th>Turbidity</th>\n",
       "    </tr>\n",
       "  </thead>\n",
       "  <tbody>\n",
       "    <tr>\n",
       "      <th>count</th>\n",
       "      <td>3.276000e+03</td>\n",
       "      <td>3.276000e+03</td>\n",
       "      <td>3.276000e+03</td>\n",
       "      <td>3.276000e+03</td>\n",
       "      <td>3.276000e+03</td>\n",
       "      <td>3.276000e+03</td>\n",
       "      <td>3.276000e+03</td>\n",
       "      <td>3.276000e+03</td>\n",
       "      <td>3.276000e+03</td>\n",
       "    </tr>\n",
       "    <tr>\n",
       "      <th>mean</th>\n",
       "      <td>-4.674052e-16</td>\n",
       "      <td>1.025906e-15</td>\n",
       "      <td>-4.554761e-17</td>\n",
       "      <td>5.205441e-16</td>\n",
       "      <td>1.591997e-15</td>\n",
       "      <td>1.756836e-16</td>\n",
       "      <td>1.735147e-17</td>\n",
       "      <td>1.713458e-16</td>\n",
       "      <td>5.552471e-16</td>\n",
       "    </tr>\n",
       "    <tr>\n",
       "      <th>std</th>\n",
       "      <td>1.000000e+00</td>\n",
       "      <td>1.000000e+00</td>\n",
       "      <td>1.000000e+00</td>\n",
       "      <td>1.000000e+00</td>\n",
       "      <td>1.000000e+00</td>\n",
       "      <td>1.000000e+00</td>\n",
       "      <td>1.000000e+00</td>\n",
       "      <td>1.000000e+00</td>\n",
       "      <td>1.000000e+00</td>\n",
       "    </tr>\n",
       "    <tr>\n",
       "      <th>min</th>\n",
       "      <td>-4.817011e+00</td>\n",
       "      <td>-4.529762e+00</td>\n",
       "      <td>-2.473966e+00</td>\n",
       "      <td>-4.276635e+00</td>\n",
       "      <td>-5.665771e+00</td>\n",
       "      <td>-3.027828e+00</td>\n",
       "      <td>-3.653077e+00</td>\n",
       "      <td>-4.163525e+00</td>\n",
       "      <td>-3.225068e+00</td>\n",
       "    </tr>\n",
       "    <tr>\n",
       "      <th>25%</th>\n",
       "      <td>-5.463578e-01</td>\n",
       "      <td>-5.936466e-01</td>\n",
       "      <td>-7.238810e-01</td>\n",
       "      <td>-6.284287e-01</td>\n",
       "      <td>-4.615366e-01</td>\n",
       "      <td>-7.481769e-01</td>\n",
       "      <td>-6.708163e-01</td>\n",
       "      <td>-6.181808e-01</td>\n",
       "      <td>-6.754064e-01</td>\n",
       "    </tr>\n",
       "    <tr>\n",
       "      <th>50%</th>\n",
       "      <td>-6.042211e-16</td>\n",
       "      <td>1.819146e-02</td>\n",
       "      <td>-1.238810e-01</td>\n",
       "      <td>5.067435e-03</td>\n",
       "      <td>3.145507e-15</td>\n",
       "      <td>-5.345119e-02</td>\n",
       "      <td>-2.014179e-02</td>\n",
       "      <td>0.000000e+00</td>\n",
       "      <td>-1.506775e-02</td>\n",
       "    </tr>\n",
       "    <tr>\n",
       "      <th>75%</th>\n",
       "      <td>5.369244e-01</td>\n",
       "      <td>6.173390e-01</td>\n",
       "      <td>6.065606e-01</td>\n",
       "      <td>6.270101e-01</td>\n",
       "      <td>4.595678e-01</td>\n",
       "      <td>6.877555e-01</td>\n",
       "      <td>6.869921e-01</td>\n",
       "      <td>6.512615e-01</td>\n",
       "      <td>6.836823e-01</td>\n",
       "    </tr>\n",
       "    <tr>\n",
       "      <th>max</th>\n",
       "      <td>4.707084e+00</td>\n",
       "      <td>3.855092e+00</td>\n",
       "      <td>4.472006e+00</td>\n",
       "      <td>3.793052e+00</td>\n",
       "      <td>4.074273e+00</td>\n",
       "      <td>4.047526e+00</td>\n",
       "      <td>4.236500e+00</td>\n",
       "      <td>3.652767e+00</td>\n",
       "      <td>3.552379e+00</td>\n",
       "    </tr>\n",
       "  </tbody>\n",
       "</table>\n",
       "</div>"
      ],
      "text/plain": [
       "                 ph      Hardness        Solids   Chloramines       Sulfate  \\\n",
       "count  3.276000e+03  3.276000e+03  3.276000e+03  3.276000e+03  3.276000e+03   \n",
       "mean  -4.674052e-16  1.025906e-15 -4.554761e-17  5.205441e-16  1.591997e-15   \n",
       "std    1.000000e+00  1.000000e+00  1.000000e+00  1.000000e+00  1.000000e+00   \n",
       "min   -4.817011e+00 -4.529762e+00 -2.473966e+00 -4.276635e+00 -5.665771e+00   \n",
       "25%   -5.463578e-01 -5.936466e-01 -7.238810e-01 -6.284287e-01 -4.615366e-01   \n",
       "50%   -6.042211e-16  1.819146e-02 -1.238810e-01  5.067435e-03  3.145507e-15   \n",
       "75%    5.369244e-01  6.173390e-01  6.065606e-01  6.270101e-01  4.595678e-01   \n",
       "max    4.707084e+00  3.855092e+00  4.472006e+00  3.793052e+00  4.074273e+00   \n",
       "\n",
       "       Conductivity  Organic_carbon  Trihalomethanes     Turbidity  \n",
       "count  3.276000e+03    3.276000e+03     3.276000e+03  3.276000e+03  \n",
       "mean   1.756836e-16    1.735147e-17     1.713458e-16  5.552471e-16  \n",
       "std    1.000000e+00    1.000000e+00     1.000000e+00  1.000000e+00  \n",
       "min   -3.027828e+00   -3.653077e+00    -4.163525e+00 -3.225068e+00  \n",
       "25%   -7.481769e-01   -6.708163e-01    -6.181808e-01 -6.754064e-01  \n",
       "50%   -5.345119e-02   -2.014179e-02     0.000000e+00 -1.506775e-02  \n",
       "75%    6.877555e-01    6.869921e-01     6.512615e-01  6.836823e-01  \n",
       "max    4.047526e+00    4.236500e+00     3.652767e+00  3.552379e+00  "
      ]
     },
     "execution_count": 15,
     "metadata": {},
     "output_type": "execute_result"
    }
   ],
   "source": [
    "data_stand.describe()"
   ]
  },
  {
   "cell_type": "markdown",
   "id": "17019317",
   "metadata": {},
   "source": [
    "# Разобьем выборку на тестовую и обучающую"
   ]
  },
  {
   "cell_type": "markdown",
   "id": "3378a5e0",
   "metadata": {},
   "source": [
    "Отведем 75% на обучающую выборку и 25% на тестовую"
   ]
  },
  {
   "cell_type": "code",
   "execution_count": 16,
   "id": "76d001b8",
   "metadata": {},
   "outputs": [],
   "source": [
    "X = data_stand\n",
    "y = data_raw['Potability']"
   ]
  },
  {
   "cell_type": "code",
   "execution_count": 17,
   "id": "1b3ae240",
   "metadata": {},
   "outputs": [
    {
     "data": {
      "text/plain": [
       "(2457, 819)"
      ]
     },
     "execution_count": 17,
     "metadata": {},
     "output_type": "execute_result"
    }
   ],
   "source": [
    "from sklearn.model_selection import train_test_split\n",
    "X_train, X_test, y_train, y_test = train_test_split(X, y, test_size = 0.25, random_state = 22)\n",
    "\n",
    "N_train, _ = X_train.shape \n",
    "N_test,  _ = X_test.shape \n",
    "\n",
    "N_train, N_test"
   ]
  },
  {
   "cell_type": "markdown",
   "id": "faa71401",
   "metadata": {},
   "source": [
    "# Подбор оптимальной архитектуры"
   ]
  },
  {
   "cell_type": "code",
   "execution_count": 18,
   "id": "762d2c87",
   "metadata": {},
   "outputs": [],
   "source": [
    "from sklearn.neural_network import MLPClassifier\n",
    "from sklearn.model_selection import GridSearchCV"
   ]
  },
  {
   "cell_type": "code",
   "execution_count": 19,
   "id": "85e22a42",
   "metadata": {},
   "outputs": [],
   "source": [
    "values = []\n",
    "# for i in range(146, 153, 1):\n",
    "for j in range(5, 20, 1):\n",
    "    mlp_model = MLPClassifier(hidden_layer_sizes = (j,),\n",
    "                      solver = 'lbfgs', \n",
    "                      activation = 'relu',\n",
    "                      random_state = 42)\n",
    "    mlp_model.fit(X_train, y_train)\n",
    "    y_train_pred = mlp_model.predict(X_train)\n",
    "    y_test_pred = mlp_model.predict(X_test)\n",
    "    if np.mean(y_test != y_test_pred) < 0.37:\n",
    "        values.append([j,np.mean(y_test != y_test_pred)])"
   ]
  },
  {
   "cell_type": "code",
   "execution_count": 20,
   "id": "06d7f6c1",
   "metadata": {},
   "outputs": [
    {
     "data": {
      "text/plain": [
       "[[5, 0.32967032967032966],\n",
       " [6, 0.33821733821733824],\n",
       " [7, 0.3516483516483517],\n",
       " [8, 0.3235653235653236],\n",
       " [9, 0.3125763125763126],\n",
       " [10, 0.326007326007326],\n",
       " [11, 0.3540903540903541],\n",
       " [12, 0.34676434676434675],\n",
       " [13, 0.3418803418803419],\n",
       " [14, 0.34676434676434675],\n",
       " [15, 0.3504273504273504],\n",
       " [16, 0.3540903540903541],\n",
       " [17, 0.3540903540903541],\n",
       " [18, 0.3492063492063492],\n",
       " [19, 0.3333333333333333]]"
      ]
     },
     "execution_count": 20,
     "metadata": {},
     "output_type": "execute_result"
    }
   ],
   "source": [
    "values"
   ]
  },
  {
   "cell_type": "markdown",
   "id": "2e48b85d",
   "metadata": {},
   "source": [
    "Получаем, что оптимальным является один слой с 9 нейронами"
   ]
  },
  {
   "cell_type": "markdown",
   "id": "d5fa4339",
   "metadata": {},
   "source": [
    "# Подбор параметра регуляризации"
   ]
  },
  {
   "cell_type": "code",
   "execution_count": 21,
   "id": "92e7901f",
   "metadata": {},
   "outputs": [],
   "source": [
    "from sklearn.metrics import accuracy_score\n",
    "alpha_arr = np.logspace(-3, 2, 21)\n",
    "test_err = []\n",
    "train_err = []\n",
    "train_acc = []\n",
    "test_acc = []\n",
    "\n",
    "for alpha in alpha_arr:\n",
    "    mlp_model = MLPClassifier(alpha = alpha, hidden_layer_sizes = (9,), \n",
    "                              solver = 'lbfgs', activation = 'logistic', max_iter=1000, random_state = 42)\n",
    "    mlp_model.fit(X_train, y_train)\n",
    "\n",
    "    y_train_pred = mlp_model.predict(X_train)\n",
    "    y_test_pred = mlp_model.predict(X_test)\n",
    "    \n",
    "    train_err.append(np.mean(y_train != y_train_pred))\n",
    "    test_err.append(np.mean(y_test != y_test_pred))\n",
    "    train_acc.append(accuracy_score(y_train, y_train_pred))\n",
    "    test_acc.append(accuracy_score(y_test, y_test_pred))"
   ]
  },
  {
   "cell_type": "code",
   "execution_count": 22,
   "id": "01ed7dba",
   "metadata": {},
   "outputs": [
    {
     "data": {
      "image/png": "[encoded data removed]",
      "text/plain": [
       "<Figure size 432x288 with 1 Axes>"
      ]
     },
     "metadata": {
      "needs_background": "light"
     },
     "output_type": "display_data"
    }
   ],
   "source": [
    "plt.semilogx(alpha_arr, train_err, 'b-o', label = 'train')\n",
    "plt.semilogx(alpha_arr, test_err, 'r-o', label = 'test')\n",
    "plt.xlim([np.min(alpha_arr), np.max(alpha_arr)])\n",
    "plt.title('Error vs. alpha')\n",
    "plt.xlabel('alpha')\n",
    "plt.ylabel('error')\n",
    "plt.legend()\n",
    "pass"
   ]
  },
  {
   "cell_type": "code",
   "execution_count": 23,
   "id": "5e0d0661",
   "metadata": {},
   "outputs": [
    {
     "data": {
      "image/png": "[encoded data removed]",
      "text/plain": [
       "<Figure size 432x288 with 1 Axes>"
      ]
     },
     "metadata": {
      "needs_background": "light"
     },
     "output_type": "display_data"
    }
   ],
   "source": [
    "plt.semilogx(alpha_arr, train_acc, 'r-o', label = 'train')\n",
    "plt.semilogx(alpha_arr, test_acc, 'b-o', label = 'test')\n",
    "plt.xlim([np.min(alpha_arr), np.max(alpha_arr)])\n",
    "plt.title('Accuracy vs. alpha')\n",
    "plt.xlabel('alpha')\n",
    "plt.ylabel('Accuracy')\n",
    "plt.legend()\n",
    "pass"
   ]
  },
  {
   "cell_type": "markdown",
   "id": "bafb4b85",
   "metadata": {},
   "source": [
    "Минимальное значение ошибки"
   ]
  },
  {
   "cell_type": "code",
   "execution_count": 24,
   "id": "9b1717d7",
   "metadata": {},
   "outputs": [
    {
     "name": "stdout",
     "output_type": "stream",
     "text": [
      "0.277981277981278 0.29426129426129427\n"
     ]
    }
   ],
   "source": [
    "min_train_err = np.min(train_err)\n",
    "min_test_err = np.min(test_err)\n",
    "print(min_train_err, min_test_err)"
   ]
  },
  {
   "cell_type": "markdown",
   "id": "a22f1d3c",
   "metadata": {},
   "source": [
    "Оптимальное значение alpha:"
   ]
  },
  {
   "cell_type": "code",
   "execution_count": 25,
   "id": "ebd75269",
   "metadata": {},
   "outputs": [
    {
     "name": "stdout",
     "output_type": "stream",
     "text": [
      "[3.16227766]\n"
     ]
    }
   ],
   "source": [
    "alpha_opt = alpha_arr[test_err == min_test_err]\n",
    "print(alpha_opt)"
   ]
  },
  {
   "cell_type": "code",
   "execution_count": 26,
   "id": "cc581f2b",
   "metadata": {},
   "outputs": [],
   "source": [
    "mlp_model = MLPClassifier(alpha = 3.2, hidden_layer_sizes = (9,), \n",
    "                              solver = 'lbfgs', activation = 'logistic', max_iter=1000, random_state = 42)"
   ]
  },
  {
   "cell_type": "code",
   "execution_count": 27,
   "id": "92c95930",
   "metadata": {},
   "outputs": [
    {
     "name": "stdout",
     "output_type": "stream",
     "text": [
      "Wall time: 216 ms\n"
     ]
    },
    {
     "data": {
      "text/plain": [
       "MLPClassifier(activation='logistic', alpha=3.2, hidden_layer_sizes=(9,),\n",
       "              max_iter=1000, random_state=42, solver='lbfgs')"
      ]
     },
     "execution_count": 27,
     "metadata": {},
     "output_type": "execute_result"
    }
   ],
   "source": [
    "%%time\n",
    "mlp_model.fit(X_train, y_train)"
   ]
  },
  {
   "cell_type": "code",
   "execution_count": 28,
   "id": "8fe7f17b",
   "metadata": {},
   "outputs": [],
   "source": [
    "y_train_pred = mlp_model.predict(X_train)\n",
    "y_test_pred = mlp_model.predict(X_test)"
   ]
  },
  {
   "cell_type": "code",
   "execution_count": 29,
   "id": "66178794",
   "metadata": {},
   "outputs": [
    {
     "name": "stdout",
     "output_type": "stream",
     "text": [
      "0.31746031746031744 0.2893772893772894\n"
     ]
    }
   ],
   "source": [
    "print(np.mean(y_train != y_train_pred), np.mean(y_test != y_test_pred))"
   ]
  },
  {
   "cell_type": "markdown",
   "id": "a3b508f7",
   "metadata": {},
   "source": [
    "# Матрица рассогласования и другие метрики качества"
   ]
  },
  {
   "cell_type": "code",
   "execution_count": 30,
   "id": "173e2d3f",
   "metadata": {},
   "outputs": [
    {
     "name": "stdout",
     "output_type": "stream",
     "text": [
      "[[459 186]\n",
      " [ 51 123]]\n"
     ]
    }
   ],
   "source": [
    "from sklearn.metrics import confusion_matrix\n",
    "print(confusion_matrix(y_test_pred, y_test))"
   ]
  },
  {
   "cell_type": "markdown",
   "id": "6fd1b143",
   "metadata": {},
   "source": [
    "Видим, что у нас больше ошибок 1 рода (False positive) - 186 против 51 ошибки 2 рода"
   ]
  },
  {
   "cell_type": "code",
   "execution_count": 31,
   "id": "66731acc",
   "metadata": {},
   "outputs": [
    {
     "name": "stdout",
     "output_type": "stream",
     "text": [
      "              precision    recall  f1-score   support\n",
      "\n",
      "           0       0.71      0.90      0.79       510\n",
      "           1       0.71      0.40      0.51       309\n",
      "\n",
      "    accuracy                           0.71       819\n",
      "   macro avg       0.71      0.65      0.65       819\n",
      "weighted avg       0.71      0.71      0.69       819\n",
      "\n"
     ]
    }
   ],
   "source": [
    "from sklearn.metrics import classification_report\n",
    "print(classification_report(y_test, y_test_pred))"
   ]
  },
  {
   "attachments": {
    "ml%20%D0%BC%D0%B5%D1%82%D1%80%D0%B8%D0%BA%D0%B8.jpg": {
     "image/jpeg": "[encoded data removed]"
    }
   },
   "cell_type": "markdown",
   "id": "61d27ac6",
   "metadata": {},
   "source": [
    "![ml%20%D0%BC%D0%B5%D1%82%D1%80%D0%B8%D0%BA%D0%B8.jpg](attachment:ml%20%D0%BC%D0%B5%D1%82%D1%80%D0%B8%D0%BA%D0%B8.jpg)"
   ]
  }
 ],
 "metadata": {
  "kernelspec": {
   "display_name": "Python 3 (ipykernel)",
   "language": "python",
   "name": "python3"
  },
  "language_info": {
   "codemirror_mode": {
    "name": "ipython",
    "version": 3
   },
   "file_extension": ".py",
   "mimetype": "text/x-python",
   "name": "python",
   "nbconvert_exporter": "python",
   "pygments_lexer": "ipython3",
   "version": "3.9.9"
  }
 },
 "nbformat": 4,
 "nbformat_minor": 5
}
